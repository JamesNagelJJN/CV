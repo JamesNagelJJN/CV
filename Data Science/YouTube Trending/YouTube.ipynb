{
 "cells": [
  {
   "cell_type": "code",
   "execution_count": 1,
   "metadata": {
    "collapsed": true
   },
   "outputs": [],
   "source": [
    "import pandas as pd\n",
    "import numpy as np\n",
    "import seaborn as sns\n",
    "from sklearn.model_selection import train_test_split\n",
    "from sklearn.ensemble import RandomForestClassifier\n",
    "from sklearn import metrics\n",
    "import warnings\n",
    "\n",
    "path = r'\\Users\\James\\Desktop\\Datasets/'\n",
    "files = ['GBvideos.csv','USvideos.csv']\n",
    "df_GB = pd.read_csv(path+files[0])\n",
    "df_US = pd.read_csv(path+files[1])\n",
    "warnings.filterwarnings(action=\"ignore\")"
   ]
  },
  {
   "cell_type": "code",
   "execution_count": 2,
   "outputs": [
    {
     "name": "stdout",
     "output_type": "stream",
     "text": [
      "<class 'pandas.core.frame.DataFrame'>\n",
      "RangeIndex: 38916 entries, 0 to 38915\n",
      "Data columns (total 16 columns):\n",
      "video_id                  38916 non-null object\n",
      "trending_date             38916 non-null object\n",
      "title                     38916 non-null object\n",
      "channel_title             38916 non-null object\n",
      "category_id               38916 non-null int64\n",
      "publish_time              38916 non-null object\n",
      "tags                      38916 non-null object\n",
      "views                     38916 non-null int64\n",
      "likes                     38916 non-null int64\n",
      "dislikes                  38916 non-null int64\n",
      "comment_count             38916 non-null int64\n",
      "thumbnail_link            38916 non-null object\n",
      "comments_disabled         38916 non-null bool\n",
      "ratings_disabled          38916 non-null bool\n",
      "video_error_or_removed    38916 non-null bool\n",
      "description               38304 non-null object\n",
      "dtypes: bool(3), int64(5), object(8)\n",
      "memory usage: 4.0+ MB\n",
      "None\n"
     ]
    }
   ],
   "source": [
    "print(df_GB.info())"
   ],
   "metadata": {
    "collapsed": false,
    "pycharm": {
     "name": "#%%\n"
    }
   }
  },
  {
   "cell_type": "markdown",
   "source": [
    "All columns have the correct data type."
   ],
   "metadata": {
    "collapsed": false,
    "pycharm": {
     "name": "#%% md\n"
    }
   }
  },
  {
   "cell_type": "code",
   "execution_count": 3,
   "outputs": [
    {
     "name": "stdout",
     "output_type": "stream",
     "text": [
      "91       NaN\n",
      "118      NaN\n",
      "187      NaN\n",
      "309      NaN\n",
      "336      NaN\n",
      "        ... \n",
      "38511    NaN\n",
      "38560    NaN\n",
      "38639    NaN\n",
      "38735    NaN\n",
      "38815    NaN\n",
      "Name: description, Length: 612, dtype: object\n",
      "<class 'pandas.core.frame.DataFrame'>\n",
      "RangeIndex: 38916 entries, 0 to 38915\n",
      "Data columns (total 16 columns):\n",
      "video_id                  38916 non-null object\n",
      "trending_date             38916 non-null object\n",
      "title                     38916 non-null object\n",
      "channel_title             38916 non-null object\n",
      "category_id               38916 non-null int64\n",
      "publish_time              38916 non-null object\n",
      "tags                      38916 non-null object\n",
      "views                     38916 non-null int64\n",
      "likes                     38916 non-null int64\n",
      "dislikes                  38916 non-null int64\n",
      "comment_count             38916 non-null int64\n",
      "thumbnail_link            38916 non-null object\n",
      "comments_disabled         38916 non-null bool\n",
      "ratings_disabled          38916 non-null bool\n",
      "video_error_or_removed    38916 non-null bool\n",
      "description               38304 non-null object\n",
      "dtypes: bool(3), int64(5), object(8)\n",
      "memory usage: 4.0+ MB\n",
      "None\n"
     ]
    }
   ],
   "source": [
    "print(df_GB[df_GB['description'].isna()]['description'])\n",
    "df_GB['description'] = df_GB['description'].apply(lambda x: 'No Description' if x == np.nan else x)\n",
    "print(df_GB.info())"
   ],
   "metadata": {
    "collapsed": false,
    "pycharm": {
     "name": "#%%\n"
    }
   }
  },
  {
   "cell_type": "markdown",
   "source": [
    "Fixed missing description column in df_GB.\n",
    "Description also now reads as an int, which is shouldn't\n",
    "\n",
    "Lets look at the most viewd videos and their\n",
    "like/dislike ratio.\n"
   ],
   "metadata": {
    "collapsed": false
   }
  },
  {
   "cell_type": "code",
   "execution_count": 4,
   "outputs": [
    {
     "name": "stdout",
     "output_type": "stream",
     "text": [
      "          video_id trending_date  \\\n",
      "0      Jw1Y-zhQURU      17.14.11   \n",
      "1      3s1rvMFUweQ      17.14.11   \n",
      "2      n1WpP7iowLc      17.14.11   \n",
      "3      PUTEiSjKwJU      17.14.11   \n",
      "4      rHwDegptbI4      17.14.11   \n",
      "...            ...           ...   \n",
      "38911  l884wKofd54      18.14.06   \n",
      "38912  IP8k2xkhOdI      18.14.06   \n",
      "38913  Il-an3K9pjg      18.14.06   \n",
      "38914  -DRsfNObKIQ      18.14.06   \n",
      "38915  4YFo4bdMO8Q      18.14.06   \n",
      "\n",
      "                                                   title  \\\n",
      "0          John Lewis Christmas Ad 2017 - #MozTheMonster   \n",
      "1              Taylor Swift: …Ready for It? (Live) - SNL   \n",
      "2             Eminem - Walk On Water (Audio) ft. Beyoncé   \n",
      "3      Goals from Salford City vs Class of 92 and Fri...   \n",
      "4      Dashcam captures truck's near miss with child ...   \n",
      "...                                                  ...   \n",
      "38911  Enrique Iglesias - MOVE TO MIAMI (Official Vid...   \n",
      "38912  Jacob Sartorius - Up With It (Official Music V...   \n",
      "38913                 Anne-Marie - 2002 [Official Video]   \n",
      "38914  Eleni Foureira - Fuego - Cyprus - LIVE - First...   \n",
      "38915  KYLE - Ikuyo feat.  2 Chainz & Sophia Black [A...   \n",
      "\n",
      "                    channel_title  category_id              publish_time  \\\n",
      "0                      John Lewis           26  2017-11-10T07:38:29.000Z   \n",
      "1             Saturday Night Live           24  2017-11-12T06:24:44.000Z   \n",
      "2                      EminemVEVO           10  2017-11-10T17:00:03.000Z   \n",
      "3      Salford City Football Club           17  2017-11-13T02:30:38.000Z   \n",
      "4                Cute Girl Videos           25  2017-11-13T01:45:13.000Z   \n",
      "...                           ...          ...                       ...   \n",
      "38911         EnriqueIglesiasVEVO           10  2018-05-09T07:00:01.000Z   \n",
      "38912             Jacob Sartorius           10  2018-05-11T17:09:16.000Z   \n",
      "38913                  Anne-Marie           10  2018-05-08T11:05:08.000Z   \n",
      "38914     Eurovision Song Contest           24  2018-05-08T20:32:32.000Z   \n",
      "38915              SuperDuperKyle           10  2018-05-11T04:06:35.000Z   \n",
      "\n",
      "                                                    tags     views   likes  \\\n",
      "0      christmas|\"john lewis christmas\"|\"john lewis\"|...   7224515   55681   \n",
      "1      SNL|\"Saturday Night Live\"|\"SNL Season 43\"|\"Epi...   1053632   25561   \n",
      "2      Eminem|\"Walk\"|\"On\"|\"Water\"|\"Aftermath/Shady/In...  17158579  787420   \n",
      "3      Salford City FC|\"Salford City\"|\"Salford\"|\"Clas...     27833     193   \n",
      "4                                                 [none]      9815      30   \n",
      "...                                                  ...       ...     ...   \n",
      "38911  Enrique Iglesias feat. Pitbull|\"MOVE TO MIAMI\"...  25066952  268088   \n",
      "38912  jacob sartorius|\"jacob\"|\"up with it\"|\"jacob sa...   1492219   61998   \n",
      "38913  anne|\"marie\"|\"anne-marie\"|\"2002\"|\"two thousand...  29641412  394830   \n",
      "38914  Eurovision Song Contest|\"2018\"|\"Lisbon\"|\"Cypru...  14317515  151870   \n",
      "38915  Kyle|\"SuperDuperKyle\"|\"Ikuyo\"|\"2 Chainz\"|\"Soph...    607552   18271   \n",
      "\n",
      "       dislikes  comment_count  \\\n",
      "0         10247           9479   \n",
      "1          2294           2757   \n",
      "2         43420         125882   \n",
      "3            12             37   \n",
      "4             2             30   \n",
      "...         ...            ...   \n",
      "38911     12783           9933   \n",
      "38912     13781          24330   \n",
      "38913      8892          19988   \n",
      "38914     45875          26766   \n",
      "38915       274           1423   \n",
      "\n",
      "                                       thumbnail_link  comments_disabled  \\\n",
      "0      https://i.ytimg.com/vi/Jw1Y-zhQURU/default.jpg              False   \n",
      "1      https://i.ytimg.com/vi/3s1rvMFUweQ/default.jpg              False   \n",
      "2      https://i.ytimg.com/vi/n1WpP7iowLc/default.jpg              False   \n",
      "3      https://i.ytimg.com/vi/PUTEiSjKwJU/default.jpg              False   \n",
      "4      https://i.ytimg.com/vi/rHwDegptbI4/default.jpg              False   \n",
      "...                                               ...                ...   \n",
      "38911  https://i.ytimg.com/vi/l884wKofd54/default.jpg              False   \n",
      "38912  https://i.ytimg.com/vi/IP8k2xkhOdI/default.jpg              False   \n",
      "38913  https://i.ytimg.com/vi/Il-an3K9pjg/default.jpg              False   \n",
      "38914  https://i.ytimg.com/vi/-DRsfNObKIQ/default.jpg              False   \n",
      "38915  https://i.ytimg.com/vi/4YFo4bdMO8Q/default.jpg              False   \n",
      "\n",
      "       ratings_disabled  video_error_or_removed  \\\n",
      "0                 False                   False   \n",
      "1                 False                   False   \n",
      "2                 False                   False   \n",
      "3                 False                   False   \n",
      "4                 False                   False   \n",
      "...                 ...                     ...   \n",
      "38911             False                   False   \n",
      "38912             False                   False   \n",
      "38913             False                   False   \n",
      "38914             False                   False   \n",
      "38915             False                   False   \n",
      "\n",
      "                                             description  like/dislike  \n",
      "0      Click here to continue the story and make your...      5.433883  \n",
      "1      Musical guest Taylor Swift performs …Ready for...     11.142546  \n",
      "2      Eminem's new track Walk on Water ft. Beyoncé i...     18.134961  \n",
      "3      Salford drew 4-4 against the Class of 92 and F...     16.083333  \n",
      "4      Dashcam captures truck's near miss with child ...     15.000000  \n",
      "...                                                  ...           ...  \n",
      "38911  NEW SONG - MOVE TO MIAMI feat. Pitbull (Click ...     20.972229  \n",
      "38912  THE OFFICIAL UP WITH IT MUSIC VIDEO!Get my new...      4.498803  \n",
      "38913  Get 2002 by Anne-Marie HERE ▶ http://ad.gt/200...     44.402834  \n",
      "38914  Eleni Foureira represented Cyprus at the first...      3.310518  \n",
      "38915  Debut album 'Light of Mine' out now: http://ky...     66.682482  \n",
      "\n",
      "[38916 rows x 17 columns]\n"
     ]
    }
   ],
   "source": [
    "df_GB['like/dislike'] = df_GB['likes']/df_GB['dislikes']\n",
    "print(df_GB)"
   ],
   "metadata": {
    "collapsed": false,
    "pycharm": {
     "name": "#%%\n"
    }
   }
  },
  {
   "cell_type": "code",
   "execution_count": 5,
   "outputs": [
    {
     "data": {
      "text/plain": "<AxesSubplot:>"
     },
     "execution_count": 5,
     "metadata": {},
     "output_type": "execute_result"
    },
    {
     "data": {
      "text/plain": "<Figure size 432x288 with 2 Axes>",
      "image/png": "[encoded data removed]"
     },
     "metadata": {
      "needs_background": "light"
     },
     "output_type": "display_data"
    }
   ],
   "source": [
    "df_heat = df_GB[['views','likes','dislikes']]\n",
    "sns.heatmap(df_heat.corr(), cmap='Reds', annot=True)"
   ],
   "metadata": {
    "collapsed": false,
    "pycharm": {
     "name": "#%%\n"
    }
   }
  },
  {
   "cell_type": "code",
   "execution_count": 6,
   "outputs": [],
   "source": [
    "import matplotlib.pyplot as plt"
   ],
   "metadata": {
    "collapsed": false,
    "pycharm": {
     "name": "#%%\n"
    }
   }
  },
  {
   "cell_type": "code",
   "execution_count": 7,
   "outputs": [
    {
     "data": {
      "text/plain": "<Figure size 432x288 with 1 Axes>",
      "image/png": "[encoded data removed]"
     },
     "metadata": {
      "needs_background": "light"
     },
     "output_type": "display_data"
    },
    {
     "data": {
      "text/plain": "<matplotlib.legend.Legend at 0x236af880160>"
     },
     "execution_count": 7,
     "metadata": {},
     "output_type": "execute_result"
    },
    {
     "data": {
      "text/plain": "<Figure size 432x288 with 1 Axes>",
      "image/png": "[encoded data removed]"
     },
     "metadata": {
      "needs_background": "light"
     },
     "output_type": "display_data"
    }
   ],
   "source": [
    "df_GB = df_GB[df_GB['likes'] != 0]\n",
    "df_GB = df_GB[df_GB['dislikes'] != 0]\n",
    "df_GB['like/dislike'] = df_GB['likes']/df_GB['dislikes']\n",
    "df_unique_videos = df_GB.sort_values(by=['title','like/dislike'])\n",
    "df_unique_videos = df_unique_videos.drop_duplicates(subset='title', keep='last')\n",
    "sns.histplot(df_unique_videos[df_unique_videos['like/dislike'] < 1]['like/dislike'], kde=False,color='#FF0000', bins=15)\n",
    "plt.xlabel('like/dislike ratio')\n",
    "plt.ylabel('Count of videos')\n",
    "plt.title('Videos with a like/dislike <= 1')\n",
    "plt.legend(['Number of videos: ' + str(df_unique_videos[df_unique_videos['like/dislike'] <= 1]['like/dislike'].count())])\n",
    "plt.show()\n",
    "\n",
    "sns.histplot(df_unique_videos[df_unique_videos['like/dislike'] > 1]['like/dislike'], kde=False,color='#FF0000', bins=50)\n",
    "plt.xlabel('like/dislike ratio')\n",
    "plt.ylabel('Count of videos')\n",
    "plt.title('Videos with a like/dislike > 1')\n",
    "plt.legend(['Number of videos: ' + str(df_unique_videos[df_unique_videos['like/dislike'] > 1]['like/dislike'].count())])"
   ],
   "metadata": {
    "collapsed": false,
    "pycharm": {
     "name": "#%%\n"
    }
   }
  },
  {
   "cell_type": "markdown",
   "source": [
    "A problem with the like/dislike ratio is that there is a video that has 0 likes and another\n",
    "which may be the same with zero dislikes. I'm just going to drop that row."
   ],
   "metadata": {
    "collapsed": false
   }
  },
  {
   "cell_type": "code",
   "execution_count": 8,
   "outputs": [
    {
     "name": "stdout",
     "output_type": "stream",
     "text": [
      "6199          PSA from Chairman of the FCC Ajit Pai\n",
      "6412          PSA from Chairman of the FCC Ajit Pai\n",
      "6617          PSA from Chairman of the FCC Ajit Pai\n",
      "6823          PSA from Chairman of the FCC Ajit Pai\n",
      "7040          PSA from Chairman of the FCC Ajit Pai\n",
      "7254          PSA from Chairman of the FCC Ajit Pai\n",
      "7476          PSA from Chairman of the FCC Ajit Pai\n",
      "7685          PSA from Chairman of the FCC Ajit Pai\n",
      "7891          PSA from Chairman of the FCC Ajit Pai\n",
      "8104          PSA from Chairman of the FCC Ajit Pai\n",
      "8312          PSA from Chairman of the FCC Ajit Pai\n",
      "8519          PSA from Chairman of the FCC Ajit Pai\n",
      "8728          PSA from Chairman of the FCC Ajit Pai\n",
      "8939          PSA from Chairman of the FCC Ajit Pai\n",
      "9146          PSA from Chairman of the FCC Ajit Pai\n",
      "9354          PSA from Chairman of the FCC Ajit Pai\n",
      "9575          PSA from Chairman of the FCC Ajit Pai\n",
      "9777          PSA from Chairman of the FCC Ajit Pai\n",
      "9985          PSA from Chairman of the FCC Ajit Pai\n",
      "14035    RollerCoaster Tycoon Start Engine Campaign\n",
      "14252    RollerCoaster Tycoon Start Engine Campaign\n",
      "14465    RollerCoaster Tycoon Start Engine Campaign\n",
      "14672    RollerCoaster Tycoon Start Engine Campaign\n",
      "14882    RollerCoaster Tycoon Start Engine Campaign\n",
      "15105    RollerCoaster Tycoon Start Engine Campaign\n",
      "15316    RollerCoaster Tycoon Start Engine Campaign\n",
      "15538    RollerCoaster Tycoon Start Engine Campaign\n",
      "15751    RollerCoaster Tycoon Start Engine Campaign\n",
      "15968    RollerCoaster Tycoon Start Engine Campaign\n",
      "16182    RollerCoaster Tycoon Start Engine Campaign\n",
      "Name: title, dtype: object\n"
     ]
    }
   ],
   "source": [
    "print(df_GB[df_GB['like/dislike'] < 0.05]['title'])"
   ],
   "metadata": {
    "collapsed": false,
    "pycharm": {
     "name": "#%%\n"
    }
   }
  },
  {
   "cell_type": "code",
   "execution_count": 9,
   "outputs": [
    {
     "name": "stdout",
     "output_type": "stream",
     "text": [
      "comments_disabled\n",
      "Comments disabled    21.119208\n",
      "Comments enabled     49.320631\n",
      "Name: like/dislike, dtype: float64\n"
     ]
    },
    {
     "name": "stderr",
     "output_type": "stream",
     "text": [
      "C:\\Users\\James\\PycharmProjects\\pythonProject3\\venv\\lib\\site-packages\\seaborn\\_decorators.py:43: FutureWarning: Pass the following variables as keyword args: x, y. From version 0.12, the only valid positional argument will be `data`, and passing other arguments without an explicit keyword will result in an error or misinterpretation.\n",
      "  FutureWarning\n"
     ]
    },
    {
     "data": {
      "text/plain": "Text(0.5, 1.0, 'Average like/dislike ratio for videos with comments enabled and disabled')"
     },
     "execution_count": 9,
     "metadata": {},
     "output_type": "execute_result"
    },
    {
     "data": {
      "text/plain": "<Figure size 432x288 with 1 Axes>",
      "image/png": "[encoded data removed]"
     },
     "metadata": {
      "needs_background": "light"
     },
     "output_type": "display_data"
    }
   ],
   "source": [
    "df_GB['like/dislike'] = df_GB['like/dislike']\n",
    "df_GB['comments_disabled'] = df_GB['comments_disabled'].apply(lambda x: 'Comments disabled' if x==True else 'Comments enabled')\n",
    "df_bar_comment_disabled_like_dislike = df_GB.groupby('comments_disabled')['like/dislike'].mean()\n",
    "print(df_bar_comment_disabled_like_dislike)\n",
    "sns.barplot(df_bar_comment_disabled_like_dislike.index,df_bar_comment_disabled_like_dislike.values, color='#FF0000')\n",
    "plt.xlabel('')\n",
    "plt.ylabel('like/dislike ratio', rotation=0, ha='right')\n",
    "plt.title('Average like/dislike ratio for videos with comments enabled and disabled')\n"
   ],
   "metadata": {
    "collapsed": false,
    "pycharm": {
     "name": "#%%\n"
    }
   }
  },
  {
   "cell_type": "markdown",
   "source": [
    "From this graph we can see the all videos that disable comments have\n",
    "a like/dislike ratio of less than 200."
   ],
   "metadata": {
    "collapsed": false
   }
  },
  {
   "cell_type": "code",
   "execution_count": 10,
   "outputs": [],
   "source": [
    "from sklearn.cluster import KMeans\n",
    "num = 5\n",
    "km = KMeans(n_clusters=num)"
   ],
   "metadata": {
    "collapsed": false,
    "pycharm": {
     "name": "#%%\n"
    }
   }
  },
  {
   "cell_type": "code",
   "execution_count": 11,
   "outputs": [],
   "source": [
    "y_predict = km.fit_predict(df_GB[['likes','dislikes']])\n",
    "df_GB['clusters'] = y_predict"
   ],
   "metadata": {
    "collapsed": false,
    "pycharm": {
     "name": "#%%\n"
    }
   }
  },
  {
   "cell_type": "code",
   "execution_count": 12,
   "outputs": [
    {
     "name": "stderr",
     "output_type": "stream",
     "text": [
      "C:\\Users\\James\\PycharmProjects\\pythonProject3\\venv\\lib\\site-packages\\seaborn\\_decorators.py:43: FutureWarning: Pass the following variables as keyword args: x, y. From version 0.12, the only valid positional argument will be `data`, and passing other arguments without an explicit keyword will result in an error or misinterpretation.\n",
      "  FutureWarning\n",
      "C:\\Users\\James\\PycharmProjects\\pythonProject3\\venv\\lib\\site-packages\\seaborn\\_decorators.py:43: FutureWarning: Pass the following variables as keyword args: x, y. From version 0.12, the only valid positional argument will be `data`, and passing other arguments without an explicit keyword will result in an error or misinterpretation.\n",
      "  FutureWarning\n",
      "C:\\Users\\James\\PycharmProjects\\pythonProject3\\venv\\lib\\site-packages\\seaborn\\_decorators.py:43: FutureWarning: Pass the following variables as keyword args: x, y. From version 0.12, the only valid positional argument will be `data`, and passing other arguments without an explicit keyword will result in an error or misinterpretation.\n",
      "  FutureWarning\n",
      "C:\\Users\\James\\PycharmProjects\\pythonProject3\\venv\\lib\\site-packages\\seaborn\\_decorators.py:43: FutureWarning: Pass the following variables as keyword args: x, y. From version 0.12, the only valid positional argument will be `data`, and passing other arguments without an explicit keyword will result in an error or misinterpretation.\n",
      "  FutureWarning\n",
      "C:\\Users\\James\\PycharmProjects\\pythonProject3\\venv\\lib\\site-packages\\seaborn\\_decorators.py:43: FutureWarning: Pass the following variables as keyword args: x, y. From version 0.12, the only valid positional argument will be `data`, and passing other arguments without an explicit keyword will result in an error or misinterpretation.\n",
      "  FutureWarning\n"
     ]
    },
    {
     "data": {
      "text/plain": "<Figure size 432x288 with 1 Axes>",
      "image/png": "[encoded data removed]"
     },
     "metadata": {
      "needs_background": "light"
     },
     "output_type": "display_data"
    }
   ],
   "source": [
    "colours = ['g','b','r','y','k']\n",
    "for i in range(num):\n",
    "    colour_use = colours[i]\n",
    "    df1 = df_GB[df_GB['clusters']==i]\n",
    "    sns.scatterplot(df1.dislikes,df1.likes, color=colour_use)"
   ],
   "metadata": {
    "collapsed": false,
    "pycharm": {
     "name": "#%%\n"
    }
   }
  },
  {
   "cell_type": "markdown",
   "source": [
    "are there seasons certain categories go through.\n",
    "Check if music categorys do better in the summer\n",
    "\n",
    "Sentiment analysis in a variety of forms\n",
    "Categorising YouTube videos based on their comments and statistics.\n",
    "Training ML algorithms like RNNs to generate their own YouTube comments.\n",
    "Analysing what factors affect how popular a YouTube video will be.\n",
    "Statistical analysis over time"
   ],
   "metadata": {
    "collapsed": false,
    "pycharm": {
     "name": "#%% md\n"
    }
   }
  },
  {
   "cell_type": "code",
   "execution_count": 13,
   "outputs": [
    {
     "name": "stdout",
     "output_type": "stream",
     "text": [
      "[26 24 10 17 25 22 23 28 15 27  1 20  2 19 29 43]\n"
     ]
    }
   ],
   "source": [
    "print(df_GB['category_id'].unique())\n"
   ],
   "metadata": {
    "collapsed": false,
    "pycharm": {
     "name": "#%%\n"
    }
   }
  },
  {
   "cell_type": "code",
   "execution_count": 14,
   "outputs": [
    {
     "name": "stdout",
     "output_type": "stream",
     "text": [
      "<class 'pandas.core.frame.DataFrame'>\n",
      "Int64Index: 38535 entries, 0 to 38915\n",
      "Data columns (total 18 columns):\n",
      "video_id                  38535 non-null object\n",
      "trending_date             38535 non-null object\n",
      "title                     38535 non-null object\n",
      "channel_title             38535 non-null object\n",
      "category_id               38535 non-null int64\n",
      "publish_time              38535 non-null object\n",
      "tags                      38535 non-null object\n",
      "views                     38535 non-null int64\n",
      "likes                     38535 non-null int64\n",
      "dislikes                  38535 non-null int64\n",
      "comment_count             38535 non-null int64\n",
      "thumbnail_link            38535 non-null object\n",
      "comments_disabled         38535 non-null object\n",
      "ratings_disabled          38535 non-null bool\n",
      "video_error_or_removed    38535 non-null bool\n",
      "description               37937 non-null object\n",
      "like/dislike              38535 non-null float64\n",
      "clusters                  38535 non-null int32\n",
      "dtypes: bool(2), float64(1), int32(1), int64(5), object(9)\n",
      "memory usage: 4.9+ MB\n",
      "None\n"
     ]
    }
   ],
   "source": [
    "print(df_GB.info())"
   ],
   "metadata": {
    "collapsed": false,
    "pycharm": {
     "name": "#%%\n"
    }
   }
  },
  {
   "cell_type": "code",
   "execution_count": 15,
   "outputs": [],
   "source": [
    "publish_date = df_GB['publish_time']\n",
    "trending_date = df_GB['trending_date']"
   ],
   "metadata": {
    "collapsed": false,
    "pycharm": {
     "name": "#%%\n"
    }
   }
  },
  {
   "cell_type": "code",
   "execution_count": 16,
   "outputs": [
    {
     "name": "stdout",
     "output_type": "stream",
     "text": [
      "0        2017-11-10T07:38:29.000Z\n",
      "1        2017-11-12T06:24:44.000Z\n",
      "2        2017-11-10T17:00:03.000Z\n",
      "3        2017-11-13T02:30:38.000Z\n",
      "4        2017-11-13T01:45:13.000Z\n",
      "                   ...           \n",
      "38911    2018-05-09T07:00:01.000Z\n",
      "38912    2018-05-11T17:09:16.000Z\n",
      "38913    2018-05-08T11:05:08.000Z\n",
      "38914    2018-05-08T20:32:32.000Z\n",
      "38915    2018-05-11T04:06:35.000Z\n",
      "Name: publish_time, Length: 38535, dtype: object\n",
      "18.06.04    200\n",
      "18.25.01    200\n",
      "18.12.01    200\n",
      "18.09.01    200\n",
      "18.04.01    199\n",
      "           ... \n",
      "18.24.05    154\n",
      "18.21.05    153\n",
      "18.23.05    152\n",
      "18.22.05    151\n",
      "18.15.05    148\n",
      "Name: trending_date, Length: 205, dtype: int64\n"
     ]
    }
   ],
   "source": [
    "print(publish_date)\n",
    "print(trending_date.value_counts())"
   ],
   "metadata": {
    "collapsed": false,
    "pycharm": {
     "name": "#%%\n"
    }
   }
  },
  {
   "cell_type": "markdown",
   "source": [
    "The published date includes the hour, minute and second.\n",
    "This information is uselss when comparing with\n",
    "the date the video got on the trending page as\n",
    "the trending date only increments days.\n",
    "\n",
    "The format of the trending date is Year/Day/Month,\n",
    "i want both columns in Day/Month/Year."
   ],
   "metadata": {
    "collapsed": false
   }
  },
  {
   "cell_type": "code",
   "execution_count": 17,
   "outputs": [
    {
     "name": "stdout",
     "output_type": "stream",
     "text": [
      "0       2017-11-14\n",
      "1       2017-11-14\n",
      "2       2017-11-14\n",
      "3       2017-11-14\n",
      "4       2017-11-14\n",
      "           ...    \n",
      "38911   2018-06-14\n",
      "38912   2018-06-14\n",
      "38913   2018-06-14\n",
      "38914   2018-06-14\n",
      "38915   2018-06-14\n",
      "Name: trending_date, Length: 38535, dtype: datetime64[ns]\n"
     ]
    }
   ],
   "source": [
    "trending_date = trending_date.apply(lambda x: '20'+x)\n",
    "trending_date = pd.to_datetime(trending_date, format='%Y.%d.%m')\n",
    "print(trending_date)"
   ],
   "metadata": {
    "collapsed": false,
    "pycharm": {
     "name": "#%%\n"
    }
   }
  },
  {
   "cell_type": "code",
   "execution_count": 18,
   "outputs": [
    {
     "name": "stdout",
     "output_type": "stream",
     "text": [
      "0       2017-11-10\n",
      "1       2017-11-12\n",
      "2       2017-11-10\n",
      "3       2017-11-13\n",
      "4       2017-11-13\n",
      "           ...    \n",
      "38911   2018-05-09\n",
      "38912   2018-05-11\n",
      "38913   2018-05-08\n",
      "38914   2018-05-08\n",
      "38915   2018-05-11\n",
      "Name: publish_time, Length: 38535, dtype: datetime64[ns]\n"
     ]
    }
   ],
   "source": [
    "publish_date = publish_date.apply(lambda x: x.split('T')[0])\n",
    "publish_date = pd.to_datetime(publish_date, format='%Y-%m-%d')\n",
    "print(publish_date)"
   ],
   "metadata": {
    "collapsed": false,
    "pycharm": {
     "name": "#%%\n"
    }
   }
  },
  {
   "cell_type": "markdown",
   "source": [
    "If i sort the data then the videos will be ordered by the\n",
    "date from, first on trending till the day it leaves\n",
    "the trending page.\n",
    "I could also see how long the videos stay on the trending page\n",
    "by category even.\n",
    "How to do this.\n",
    "Sort the data, with this i can work out the first and last\n",
    "position of a video and look at the dates. From that\n",
    "it is easy to get the time from upload to trending and\n",
    "how long they were trending."
   ],
   "metadata": {
    "collapsed": false,
    "pycharm": {
     "name": "#%% md\n"
    }
   }
  },
  {
   "cell_type": "code",
   "execution_count": 19,
   "outputs": [],
   "source": [
    "df_GB['trending_date'] = trending_date\n",
    "df_GB['publish_date'] = publish_date\n",
    "df_days = df_GB[['title','publish_date','trending_date']]"
   ],
   "metadata": {
    "collapsed": false,
    "pycharm": {
     "name": "#%%\n"
    }
   }
  },
  {
   "cell_type": "code",
   "execution_count": 20,
   "outputs": [
    {
     "name": "stdout",
     "output_type": "stream",
     "text": [
      "                                                   title publish_date  \\\n",
      "0          John Lewis Christmas Ad 2017 - #MozTheMonster   2017-11-10   \n",
      "1              Taylor Swift: …Ready for It? (Live) - SNL   2017-11-12   \n",
      "2             Eminem - Walk On Water (Audio) ft. Beyoncé   2017-11-10   \n",
      "3      Goals from Salford City vs Class of 92 and Fri...   2017-11-13   \n",
      "4      Dashcam captures truck's near miss with child ...   2017-11-13   \n",
      "...                                                  ...          ...   \n",
      "38911  Enrique Iglesias - MOVE TO MIAMI (Official Vid...   2018-05-09   \n",
      "38912  Jacob Sartorius - Up With It (Official Music V...   2018-05-11   \n",
      "38913                 Anne-Marie - 2002 [Official Video]   2018-05-08   \n",
      "38914  Eleni Foureira - Fuego - Cyprus - LIVE - First...   2018-05-08   \n",
      "38915  KYLE - Ikuyo feat.  2 Chainz & Sophia Black [A...   2018-05-11   \n",
      "\n",
      "      trending_date  \n",
      "0        2017-11-14  \n",
      "1        2017-11-14  \n",
      "2        2017-11-14  \n",
      "3        2017-11-14  \n",
      "4        2017-11-14  \n",
      "...             ...  \n",
      "38911    2018-06-14  \n",
      "38912    2018-06-14  \n",
      "38913    2018-06-14  \n",
      "38914    2018-06-14  \n",
      "38915    2018-06-14  \n",
      "\n",
      "[38535 rows x 3 columns]\n"
     ]
    }
   ],
   "source": [
    "print(df_days)"
   ],
   "metadata": {
    "collapsed": false,
    "pycharm": {
     "name": "#%%\n"
    }
   }
  },
  {
   "cell_type": "code",
   "execution_count": 21,
   "outputs": [
    {
     "name": "stdout",
     "output_type": "stream",
     "text": [
      "                                                   title publish_date  \\\n",
      "146    #21 How to go FAST!!! Coaching famous youtuber...   2017-11-05   \n",
      "358    #21 How to go FAST!!! Coaching famous youtuber...   2017-11-05   \n",
      "567    #21 How to go FAST!!! Coaching famous youtuber...   2017-11-05   \n",
      "13797  #ConanHaiti Preview: Haitians Roast Trump  - C...   2018-01-23   \n",
      "13999  #ConanHaiti Preview: Haitians Roast Trump  - C...   2018-01-23   \n",
      "14221  #ConanHaiti Preview: Haitians Roast Trump  - C...   2018-01-23   \n",
      "14455  #ConanHaiti Preview: Haitians Roast Trump  - C...   2018-01-23   \n",
      "14682  #ConanHaiti Preview: Haitians Roast Trump  - C...   2018-01-23   \n",
      "14894  #ConanHaiti Preview: Haitians Roast Trump  - C...   2018-01-23   \n",
      "15110  #ConanHaiti Preview: Haitians Roast Trump  - C...   2018-01-23   \n",
      "15285  #ConanHaiti Preview: Haitians Roast Trump  - C...   2018-01-23   \n",
      "15508  #ConanHaiti Preview: Haitians Roast Trump  - C...   2018-01-23   \n",
      "15725  #ConanHaiti Preview: Haitians Roast Trump  - C...   2018-01-23   \n",
      "15942  #ConanHaiti Preview: Haitians Roast Trump  - C...   2018-01-23   \n",
      "16155  #ConanHaiti Preview: Haitians Roast Trump  - C...   2018-01-23   \n",
      "16366  #ConanHaiti Preview: Haitians Roast Trump  - C...   2018-01-23   \n",
      "23788                #GameOn - 88 Seconds of Video Games   2018-03-12   \n",
      "23997                #GameOn - 88 Seconds of Video Games   2018-03-12   \n",
      "24203                #GameOn - 88 Seconds of Video Games   2018-03-12   \n",
      "24405                #GameOn - 88 Seconds of Video Games   2018-03-12   \n",
      "24608                #GameOn - 88 Seconds of Video Games   2018-03-12   \n",
      "24814                #GameOn - 88 Seconds of Video Games   2018-03-12   \n",
      "25022                #GameOn - 88 Seconds of Video Games   2018-03-12   \n",
      "25228                #GameOn - 88 Seconds of Video Games   2018-03-12   \n",
      "25433                #GameOn - 88 Seconds of Video Games   2018-03-12   \n",
      "25638                #GameOn - 88 Seconds of Video Games   2018-03-12   \n",
      "25835                #GameOn - 88 Seconds of Video Games   2018-03-12   \n",
      "812    #KIISCampus Surprise with BTS | On Air with Ry...   2017-11-17   \n",
      "1022   #KIISCampus Surprise with BTS | On Air with Ry...   2017-11-17   \n",
      "1239   #KIISCampus Surprise with BTS | On Air with Ry...   2017-11-17   \n",
      "\n",
      "      trending_date  \n",
      "146      2017-11-14  \n",
      "358      2017-11-15  \n",
      "567      2017-11-16  \n",
      "13797    2018-01-24  \n",
      "13999    2018-01-25  \n",
      "14221    2018-01-26  \n",
      "14455    2018-01-27  \n",
      "14682    2018-01-28  \n",
      "14894    2018-01-29  \n",
      "15110    2018-01-30  \n",
      "15285    2018-01-31  \n",
      "15508    2018-02-01  \n",
      "15725    2018-02-02  \n",
      "15942    2018-02-03  \n",
      "16155    2018-02-04  \n",
      "16366    2018-02-05  \n",
      "23788    2018-03-15  \n",
      "23997    2018-03-16  \n",
      "24203    2018-03-17  \n",
      "24405    2018-03-18  \n",
      "24608    2018-03-19  \n",
      "24814    2018-03-20  \n",
      "25022    2018-03-21  \n",
      "25228    2018-03-22  \n",
      "25433    2018-03-23  \n",
      "25638    2018-03-24  \n",
      "25835    2018-03-25  \n",
      "812      2017-11-18  \n",
      "1022     2017-11-19  \n",
      "1239     2017-11-20  \n"
     ]
    }
   ],
   "source": [
    "df_days = df_days.sort_values(by=['title','trending_date'])\n",
    "print(df_days.head(30))"
   ],
   "metadata": {
    "collapsed": false,
    "pycharm": {
     "name": "#%%\n"
    }
   }
  },
  {
   "cell_type": "code",
   "execution_count": 22,
   "outputs": [
    {
     "name": "stdout",
     "output_type": "stream",
     "text": [
      "Maroon 5 - Wait                                                                                  40\n",
      "Justin Timberlake’s FULL Pepsi Super Bowl LII Halftime Show! | NFL Highlights                    38\n",
      "Jurassic World: Fallen Kingdom - Official Trailer #2 [HD]                                        38\n",
      "Anne-Marie - 2002 [Official Video]                                                               38\n",
      "Janelle Monáe – Make Me Feel [Official Music Video]                                              37\n",
      "                                                                                                 ..\n",
      "Ex-Disney Star Orlando Brown Arrested in His Underwear by Bounty Hunters in Crazy Video | TMZ     1\n",
      "The Voice 2018 - New Coach Kelly Clarkson's First Day (Digital Exclusive)                         1\n",
      "Sean Diddy Combs Reveals New Name                                                                 1\n",
      "'Santa Claus Is Comin' To Town' Carpool Karaoke                                                   1\n",
      "When The Curtain Falls | COVER REVEAL!                                                            1\n",
      "Name: title, Length: 3343, dtype: int64\n"
     ]
    },
    {
     "data": {
      "text/plain": "Text(0.5, 1.0, 'Time a video spends trending')"
     },
     "execution_count": 22,
     "metadata": {},
     "output_type": "execute_result"
    },
    {
     "data": {
      "text/plain": "<Figure size 432x288 with 1 Axes>",
      "image/png": "[encoded data removed]"
     },
     "metadata": {
      "needs_background": "light"
     },
     "output_type": "display_data"
    }
   ],
   "source": [
    "\n",
    "unique_names = df_days['title'].value_counts()\n",
    "print(unique_names)\n",
    "sns.histplot(unique_names, color='#FF0000')\n",
    "plt.xlabel('Number of days spent trending / days')\n",
    "plt.ylabel('Count of videos')\n",
    "plt.title('Time a video spends trending')"
   ],
   "metadata": {
    "collapsed": false,
    "pycharm": {
     "name": "#%%\n"
    }
   }
  },
  {
   "cell_type": "markdown",
   "source": [
    "The above plot is a histogram for the number of\n",
    "days spent trending."
   ],
   "metadata": {
    "collapsed": false,
    "pycharm": {
     "name": "#%% md\n"
    }
   }
  },
  {
   "cell_type": "code",
   "execution_count": 23,
   "outputs": [],
   "source": [
    "time_to_trend = []\n",
    "df_to_trend = df_days.drop_duplicates(subset=['title'], keep='first')\n",
    "for i in range(len(df_days['title'].unique())):\n",
    "    time_to_trend.append((df_to_trend.iloc[i]['trending_date']-\n",
    "                          df_to_trend.iloc[i]['publish_date']).days)\n",
    "\n",
    "time_to_trend = [x for x in time_to_trend if x <= 25]"
   ],
   "metadata": {
    "collapsed": false,
    "pycharm": {
     "name": "#%%\n"
    }
   }
  },
  {
   "cell_type": "code",
   "execution_count": 24,
   "outputs": [
    {
     "name": "stdout",
     "output_type": "stream",
     "text": [
      "3.8283064016503094\n"
     ]
    },
    {
     "data": {
      "text/plain": "Text(0.5, 1.0, 'Time taken for a video to trend from upload')"
     },
     "execution_count": 24,
     "metadata": {},
     "output_type": "execute_result"
    },
    {
     "data": {
      "text/plain": "<Figure size 432x288 with 1 Axes>",
      "image/png": "[encoded data removed]"
     },
     "metadata": {
      "needs_background": "light"
     },
     "output_type": "display_data"
    }
   ],
   "source": [
    "print(np.std(time_to_trend))\n",
    "sns.histplot(time_to_trend, bins = 25, color='red')\n",
    "plt.xticks(range(0,26))\n",
    "plt.xlabel('Days taken for a video to reach trending page / days')\n",
    "plt.ylabel('Count of videos')\n",
    "plt.title('Time taken for a video to trend from upload')"
   ],
   "metadata": {
    "collapsed": false,
    "pycharm": {
     "name": "#%%\n"
    }
   }
  },
  {
   "cell_type": "markdown",
   "source": [
    "Removing days to trend past 40 days which is 653 values,\n",
    "we obtain quite differnet results.\n",
    "\n",
    "Tags, seperate the tags into individual words.\n",
    "With this i can determine the most popular tags on videos."
   ],
   "metadata": {
    "collapsed": false
   }
  },
  {
   "cell_type": "code",
   "execution_count": 25,
   "outputs": [
    {
     "name": "stdout",
     "output_type": "stream",
     "text": [
      "0        christmas|\"john lewis christmas\"|\"john lewis\"|...\n",
      "1        SNL|\"Saturday Night Live\"|\"SNL Season 43\"|\"Epi...\n",
      "2        Eminem|\"Walk\"|\"On\"|\"Water\"|\"Aftermath/Shady/In...\n",
      "3        Salford City FC|\"Salford City\"|\"Salford\"|\"Clas...\n",
      "4                                                   [none]\n",
      "                               ...                        \n",
      "38911    Enrique Iglesias feat. Pitbull|\"MOVE TO MIAMI\"...\n",
      "38912    jacob sartorius|\"jacob\"|\"up with it\"|\"jacob sa...\n",
      "38913    anne|\"marie\"|\"anne-marie\"|\"2002\"|\"two thousand...\n",
      "38914    Eurovision Song Contest|\"2018\"|\"Lisbon\"|\"Cypru...\n",
      "38915    Kyle|\"SuperDuperKyle\"|\"Ikuyo\"|\"2 Chainz\"|\"Soph...\n",
      "Name: tags, Length: 38535, dtype: object\n"
     ]
    }
   ],
   "source": [
    "print(df_GB['tags'])"
   ],
   "metadata": {
    "collapsed": false,
    "pycharm": {
     "name": "#%%\n"
    }
   }
  },
  {
   "cell_type": "code",
   "execution_count": 26,
   "outputs": [],
   "source": [
    "tags = df_GB['tags']\n",
    "tags = tags.str.replace('\"','')\n",
    "tags = tags.str.split('|')\n",
    "tags = tags.apply(lambda x: ' '.join(x))"
   ],
   "metadata": {
    "collapsed": false,
    "pycharm": {
     "name": "#%%\n"
    }
   }
  },
  {
   "cell_type": "code",
   "execution_count": 27,
   "outputs": [
    {
     "name": "stdout",
     "output_type": "stream",
     "text": [
      "[none]                                                                                                                                                                                                                                                                                                                                                                                                                                                    1983\n",
      "James Corden The Late Late Show Colbert late night late night show Stephen Colbert Comedy monologue comedian impressions celebrities carpool karaoke CBS Late Late Show Corden joke jokes funny funny video funny videos humor celebrity celeb hollywood famous                                                                                                                                                                                            100\n",
      "BIGHIT 빅히트 방탄소년단 BTS BANGTAN 방탄                                                                                                                                                                                                                                                                                                                                                                                                                             94\n",
      "ABC americanidol idol american idol ryan seacrest ryan seacrest katy perry katy perry luke bryan luke bryan lionel richie lionel richie season 16 american idol XVI television ad spring 2018 music reality competition song sing audition auditions performance live fox AI hollywood contestant official american official american idol hollywood week hometown audition                                                                                 89\n",
      "The Late Show Stephen Colbert Colbert Late Show celebrities late night talk show skits bit monologue The Late Late Show Late Late Show letterman david letterman comedian impressions CBS joke jokes funny funny video funny videos humor celebrity celeb hollywood famous James Corden Corden Comedy                                                                                                                                                       77\n",
      "                                                                                                                                                                                                                                                                                                                                                                                                                                                          ... \n",
      "hazel hazel hayes chewingsand chewing sand daniel j layton dan layton adulting quiz game gameshow challenge kinder kinder bueno moth cupboard                                                                                                                                                                                                                                                                                                                1\n",
      "Elders React To Marshmello Marshmello EDM ELDERS REACT TO MARSHMELLO elders react react reaction thefinebros fine brothers fine brothers entertainment finebros fine bros FBE watch review for the first time reviews responds respond youtubers react teens react kids react adults react parents react teenagers react Khalid Lele Pons DJ elders                                                                                                          1\n",
      "venom trailer venom teaser venom set venom movie venom tom hardy marvel movies deadpool release date deadpool 2 info deadpool 2 deadpool 2 moved gambit director gambit movie gambit channing tatum gambit new mutants delayed new mutants movie last jedi explained movie news entertainment news marvel news dc news teen titans movie eliot dewberry rickyftw etc show etc venom etc news machinima etc marvel marvel venom venom news teaser venom       1\n",
      "YBN YBN Nahmir YBN Almighty Jay KENXL aKENXLfilm Nahmir Rubbin Off The Paint Letter to Valley Part 5 Worldstarhiphop WSHH I Got a Stick Birmingham Hip Hop Waterwippinevan Chopsticks No Hook Hoodzone YBN Almighty Jay Chopsticks Genius YBN Nahmir Genius                                                                                                                                                                                                  1\n",
      "JOHN MACLEAN HIGHLIGHTER FOR PALE SKIN HIGHLIGHTER PALE SKIN                                                                                                                                                                                                                                                                                                                                                                                                 1\n",
      "Name: tags, Length: 3100, dtype: int64\n"
     ]
    }
   ],
   "source": [
    "print(tags.value_counts())"
   ],
   "metadata": {
    "collapsed": false,
    "pycharm": {
     "name": "#%%\n"
    }
   }
  },
  {
   "cell_type": "markdown",
   "source": [
    "Most popular channels"
   ],
   "metadata": {
    "collapsed": false,
    "pycharm": {
     "name": "#%% md\n"
    }
   }
  },
  {
   "cell_type": "code",
   "execution_count": 28,
   "outputs": [],
   "source": [
    "channel = df_GB[['channel_title','views','like/dislike']]"
   ],
   "metadata": {
    "collapsed": false,
    "pycharm": {
     "name": "#%%\n"
    }
   }
  },
  {
   "cell_type": "code",
   "execution_count": 29,
   "outputs": [
    {
     "name": "stdout",
     "output_type": "stream",
     "text": [
      "                    channel_title     views  like/dislike\n",
      "0                      John Lewis   7224515      5.433883\n",
      "1             Saturday Night Live   1053632     11.142546\n",
      "2                      EminemVEVO  17158579     18.134961\n",
      "3      Salford City Football Club     27833     16.083333\n",
      "4                Cute Girl Videos      9815     15.000000\n",
      "...                           ...       ...           ...\n",
      "38911         EnriqueIglesiasVEVO  25066952     20.972229\n",
      "38912             Jacob Sartorius   1492219      4.498803\n",
      "38913                  Anne-Marie  29641412     44.402834\n",
      "38914     Eurovision Song Contest  14317515      3.310518\n",
      "38915              SuperDuperKyle    607552     66.682482\n",
      "\n",
      "[38535 rows x 3 columns]\n"
     ]
    }
   ],
   "source": [
    "print(channel)"
   ],
   "metadata": {
    "collapsed": false,
    "pycharm": {
     "name": "#%%\n"
    }
   }
  },
  {
   "cell_type": "code",
   "execution_count": 30,
   "outputs": [],
   "source": [
    "pivot_channel = pd.pivot_table(channel, index=channel['channel_title'],\n",
    "                               values=channel[['views','like/dislike']])"
   ],
   "metadata": {
    "collapsed": false,
    "pycharm": {
     "name": "#%%\n"
    }
   }
  },
  {
   "cell_type": "code",
   "execution_count": 31,
   "outputs": [
    {
     "name": "stdout",
     "output_type": "stream",
     "text": [
      "                        like/dislike         views\n",
      "channel_title                                     \n",
      "- camilla                  13.840557  1.363377e+06\n",
      "09W HYPE                   43.019681  1.602193e+05\n",
      "14,999,999 views            2.142172  2.126282e+05\n",
      "1theK (원더케이)              147.094108  5.428111e+06\n",
      "20th Century Fox           52.042020  1.078670e+07\n",
      "...                              ...           ...\n",
      "新日本プロレスリング株式会社             64.188080  9.523729e+04\n",
      "米津玄師                      126.027199  3.645269e+06\n",
      "여자친구 GFRIEND OFFICIAL      49.781036  1.269748e+06\n",
      "영국남자 Korean Englishman     55.868364  1.320330e+06\n",
      "특이한동물채널                    77.214655  1.712163e+06\n",
      "\n",
      "[1603 rows x 2 columns]\n"
     ]
    },
    {
     "name": "stderr",
     "output_type": "stream",
     "text": [
      "C:\\Users\\James\\PycharmProjects\\pythonProject3\\venv\\lib\\site-packages\\seaborn\\_decorators.py:43: FutureWarning: Pass the following variables as keyword args: x, y. From version 0.12, the only valid positional argument will be `data`, and passing other arguments without an explicit keyword will result in an error or misinterpretation.\n",
      "  FutureWarning\n"
     ]
    },
    {
     "data": {
      "text/plain": "<AxesSubplot:xlabel='views', ylabel='like/dislike'>"
     },
     "execution_count": 31,
     "metadata": {},
     "output_type": "execute_result"
    },
    {
     "data": {
      "text/plain": "<Figure size 432x288 with 1 Axes>",
      "image/png": "[encoded data removed]"
     },
     "metadata": {
      "needs_background": "light"
     },
     "output_type": "display_data"
    }
   ],
   "source": [
    "print(pivot_channel)\n",
    "sns.scatterplot(pivot_channel['views'],pivot_channel['like/dislike'])"
   ],
   "metadata": {
    "collapsed": false,
    "pycharm": {
     "name": "#%%\n"
    }
   }
  },
  {
   "cell_type": "code",
   "execution_count": 32,
   "outputs": [
    {
     "name": "stdout",
     "output_type": "stream",
     "text": [
      "                     like/dislike         views\n",
      "channel_title                                  \n",
      "Bad Bunny               21.867221  1.914245e+08\n",
      "ChildishGambinoVEVO     16.771805  1.694808e+08\n",
      "Flow La Movie           21.430173  1.561042e+08\n",
      "NickyJamTV              16.358681  1.520748e+08\n",
      "BeckyGVEVO              11.859956  1.449770e+08\n",
      "...                           ...           ...\n",
      "chayanneVEVO            11.179529  1.272289e+07\n",
      "Jaden Smith             14.703043  1.254524e+07\n",
      "HowToBasic              34.277951  1.226968e+07\n",
      "DJSnakeVEVO             40.681724  1.203948e+07\n",
      "Mason Ramsey            16.118915  1.200278e+07\n",
      "\n",
      "[100 rows x 2 columns]\n",
      "like/dislike    52\n",
      "views           52\n",
      "dtype: int64\n"
     ]
    }
   ],
   "source": [
    "top_100_channels_by_views = pivot_channel.sort_values(by='views', ascending=False).head(100)\n",
    "print(top_100_channels_by_views)\n",
    "print(top_100_channels_by_views[top_100_channels_by_views.index.str.contains('VEVO')].count())"
   ],
   "metadata": {
    "collapsed": false,
    "pycharm": {
     "name": "#%%\n"
    }
   }
  },
  {
   "cell_type": "markdown",
   "source": [
    "52% of the top 100 channels by views are VEVO music channels, this is not all\n",
    "the music channels as many other music channels don't contain VEVO."
   ],
   "metadata": {
    "collapsed": false
   }
  },
  {
   "cell_type": "code",
   "execution_count": 33,
   "outputs": [
    {
     "data": {
      "text/plain": "<AxesSubplot:xlabel='like/dislike', ylabel='Count'>"
     },
     "execution_count": 33,
     "metadata": {},
     "output_type": "execute_result"
    },
    {
     "data": {
      "text/plain": "<Figure size 432x288 with 1 Axes>",
      "image/png": "[encoded data removed]"
     },
     "metadata": {
      "needs_background": "light"
     },
     "output_type": "display_data"
    }
   ],
   "source": [
    "sns.histplot(top_100_channels_by_views['like/dislike'])"
   ],
   "metadata": {
    "collapsed": false,
    "pycharm": {
     "name": "#%%\n"
    }
   }
  },
  {
   "cell_type": "code",
   "execution_count": 34,
   "outputs": [
    {
     "name": "stderr",
     "output_type": "stream",
     "text": [
      "C:\\Users\\James\\PycharmProjects\\pythonProject3\\venv\\lib\\site-packages\\seaborn\\_decorators.py:43: FutureWarning: Pass the following variables as keyword args: x, y. From version 0.12, the only valid positional argument will be `data`, and passing other arguments without an explicit keyword will result in an error or misinterpretation.\n",
      "  FutureWarning\n"
     ]
    },
    {
     "data": {
      "text/plain": "<matplotlib.legend.Legend at 0x236af7e7b00>"
     },
     "execution_count": 34,
     "metadata": {},
     "output_type": "execute_result"
    },
    {
     "data": {
      "text/plain": "<Figure size 432x288 with 1 Axes>",
      "image/png": "[encoded data removed]"
     },
     "metadata": {
      "needs_background": "light"
     },
     "output_type": "display_data"
    }
   ],
   "source": [
    "sns.scatterplot(df_GB['comment_count'],df_GB['like/dislike'])\n",
    "plt.legend(labels=['likes','dislikes'])"
   ],
   "metadata": {
    "collapsed": false,
    "pycharm": {
     "name": "#%%\n"
    }
   }
  },
  {
   "cell_type": "markdown",
   "source": [
    "From this scatter plot we can see that the lower\n",
    "the like/dislike ratio the higher the comment count.\n"
   ],
   "metadata": {
    "collapsed": false
   }
  },
  {
   "cell_type": "code",
   "execution_count": null,
   "outputs": [],
   "source": [
    "\n",
    "print(df_GB[df_GB['category_id']==43]['video_id'])"
   ],
   "metadata": {
    "collapsed": false,
    "pycharm": {
     "name": "#%%\n"
    }
   }
  },
  {
   "cell_type": "code",
   "execution_count": null,
   "outputs": [],
   "source": [
    "category = {1:'Film & Animation',\n",
    "            2:'Autos & Vehicles',\n",
    "            10:'Music',\n",
    "            15:'Pets & Animals',\n",
    "            17:'Sports',\n",
    "            19:'Travel & Events',\n",
    "            20:'Gaming',\n",
    "            22:'People & Blogs',\n",
    "            23:'Comedy',\n",
    "            24:'Entertainment',\n",
    "            25:'News & Politics',\n",
    "            26:'Howto & Style',\n",
    "            27:'Education',\n",
    "            28:'Science & Technology',\n",
    "            29:'Nonprofits & Activism'}"
   ],
   "metadata": {
    "collapsed": false,
    "pycharm": {
     "name": "#%%\n"
    }
   }
  },
  {
   "cell_type": "code",
   "execution_count": null,
   "outputs": [],
   "source": [
    "print(df_GB['category_id'].unique())\n",
    "df_GB['category_id'] = df_GB['category_id'].apply(lambda x:\n",
    "                                                  24 if x==43 else x)\n",
    "print(df_GB['category_id'].unique())"
   ],
   "metadata": {
    "collapsed": false,
    "pycharm": {
     "name": "#%%\n"
    }
   }
  },
  {
   "cell_type": "markdown",
   "source": [
    "any category with value 43 is actually value 24."
   ],
   "metadata": {
    "collapsed": false,
    "pycharm": {
     "name": "#%% md\n"
    }
   }
  },
  {
   "cell_type": "code",
   "execution_count": null,
   "outputs": [],
   "source": [
    "new_df_GB = df_GB\n",
    "new_df_GB = new_df_GB.sort_values(by=['title','views'], ascending=True)\n",
    "new_df_GB['likes/views'] = new_df_GB['likes']/new_df_GB['views']\n",
    "new_df_GB['likes/dislikes'] = new_df_GB['likes']/new_df_GB['dislikes']\n",
    "new_df_GB['dislikes/views'] = new_df_GB['dislikes']/new_df_GB['views']\n",
    "\n",
    "new_df_GB = new_df_GB.drop_duplicates(subset='title', keep='last')\n",
    "views_by_category = new_df_GB.groupby('category_id')['views'].sum().sort_values()\n",
    "count_by_category = new_df_GB.groupby('category_id')['views'].count().sort_values()\n",
    "like_by_category = new_df_GB.groupby('category_id')['likes'].mean().sort_values()\n",
    "dislike_by_category = new_df_GB.groupby('category_id')['dislikes'].mean().sort_values()\n",
    "like_view_by_category = new_df_GB.groupby('category_id')['likes/views'].mean().sort_values()\n",
    "dislike_view_by_category = new_df_GB.groupby('category_id')['dislikes/views'].mean().sort_values()\n",
    "\n",
    "sorted_dislike = dislike_by_category.sort_index()\n",
    "sorted_like = like_by_category.sort_index()\n",
    "like_dislike_by_category = (sorted_like/sorted_dislike).sort_values()\n",
    "\n",
    "views_by_category_index_names = []\n",
    "for i in views_by_category.index:\n",
    "    views_by_category_index_names.append(category[i])\n",
    "\n",
    "count_by_category_index_names = []\n",
    "for i in count_by_category.index:\n",
    "    count_by_category_index_names.append(category[i])\n",
    "\n",
    "like_by_category_index_names = []\n",
    "for i in like_by_category.index:\n",
    "    like_by_category_index_names.append(category[i])\n",
    "\n",
    "dislike_by_category_index_names = []\n",
    "for i in dislike_by_category.index:\n",
    "    dislike_by_category_index_names.append(category[i])\n",
    "\n",
    "like_view_by_category_index_names = []\n",
    "for i in like_view_by_category.index:\n",
    "    like_view_by_category_index_names.append(category[i])\n",
    "\n",
    "like_dislike_by_category_index_names = []\n",
    "for i in like_dislike_by_category.index:\n",
    "    like_dislike_by_category_index_names.append(category[i])\n",
    "\n",
    "dislike_view_by_category_index_names = []\n",
    "for i in dislike_view_by_category.index:\n",
    "    dislike_view_by_category_index_names.append(category[i])"
   ],
   "metadata": {
    "collapsed": false,
    "pycharm": {
     "name": "#%%\n"
    }
   }
  },
  {
   "cell_type": "code",
   "execution_count": null,
   "outputs": [],
   "source": [
    "sns.barplot(count_by_category_index_names, sorted(count_by_category), color='#FF0000')\n",
    "plt.xticks(rotation=35, ha='right')\n",
    "plt.legend().remove()\n",
    "plt.title('Number of videos in each category')\n",
    "plt.yticks(range(0,1200, 200))\n",
    "plt.xlabel('Category')\n",
    "plt.ylabel('No. Videos', rotation=0, ha='right')\n",
    "plt.show()\n",
    "\n",
    "x = views_by_category_index_names\n",
    "y = sorted(views_by_category.values)\n",
    "sns.barplot(x, y, color='#FF0000')\n",
    "plt.xticks(rotation=35, ha='right')\n",
    "plt.legend().remove()\n",
    "plt.title('Views by category')\n",
    "plt.xlabel('Category')\n",
    "plt.ylabel('Views', rotation=0, ha='right')\n",
    "plt.show()\n",
    "\n",
    "sns.barplot(like_by_category_index_names, sorted(like_by_category), color='#FF0000')\n",
    "plt.xticks(rotation=35, ha='right')\n",
    "plt.legend().remove()\n",
    "plt.title('Average likes for each category')\n",
    "plt.xlabel('Category')\n",
    "plt.ylabel('Likes', rotation=0, ha='right')\n",
    "plt.show()\n",
    "\n",
    "sns.barplot(dislike_by_category_index_names, sorted(dislike_by_category), color='#FF0000')\n",
    "plt.xticks(rotation=35, ha='right')\n",
    "plt.legend().remove()\n",
    "plt.title('Average dislikes for each category')\n",
    "plt.xlabel('Category')\n",
    "plt.ylabel('Dislikes', rotation=0, ha='right')\n",
    "plt.show()\n",
    "\n",
    "sns.barplot(like_view_by_category_index_names, sorted(like_view_by_category), color='#FF0000')\n",
    "plt.xticks(rotation=35, ha='right')\n",
    "plt.legend().remove()\n",
    "plt.title('Average like/view for each category')\n",
    "plt.xlabel('Category')\n",
    "plt.ylabel('like/view', rotation=0, ha='right')\n",
    "plt.show()\n",
    "\n",
    "sns.barplot(like_dislike_by_category_index_names, sorted(like_dislike_by_category), color='#FF0000')\n",
    "plt.xticks(rotation=35, ha='right')\n",
    "plt.legend().remove()\n",
    "plt.title('Average like/dislike for each category')\n",
    "plt.xlabel('Category')\n",
    "plt.ylabel('like/dislike', rotation=0, ha='right')\n",
    "plt.show()\n",
    "\n",
    "sns.barplot(dislike_view_by_category_index_names, sorted(dislike_view_by_category), color='#FF0000')\n",
    "plt.xticks(rotation=35, ha='right')\n",
    "plt.legend().remove()\n",
    "plt.title('Average dislike/view for each category')\n",
    "plt.xlabel('Category')\n",
    "plt.ylabel('dislike/view', rotation=0, ha='right')\n",
    "plt.show()\n"
   ],
   "metadata": {
    "collapsed": false,
    "pycharm": {
     "name": "#%%\n"
    }
   }
  }
 ],
 "metadata": {
  "kernelspec": {
   "display_name": "Python 3",
   "language": "python",
   "name": "python3"
  },
  "language_info": {
   "codemirror_mode": {
    "name": "ipython",
    "version": 2
   },
   "file_extension": ".py",
   "mimetype": "text/x-python",
   "name": "python",
   "nbconvert_exporter": "python",
   "pygments_lexer": "ipython2",
   "version": "2.7.6"
  }
 },
 "nbformat": 4,
 "nbformat_minor": 0
}