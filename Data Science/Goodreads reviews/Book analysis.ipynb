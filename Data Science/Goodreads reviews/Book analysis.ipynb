{
 "cells": [
  {
   "cell_type": "code",
   "execution_count": 16,
   "metadata": {
    "collapsed": true,
    "pycharm": {
     "name": "#%%\n"
    }
   },
   "outputs": [],
   "source": [
    "import pandas as pd\n",
    "import numpy as np\n",
    "import matplotlib.pyplot as plt\n",
    "\n",
    "df = pd.read_csv(r'\\Users\\James\\Desktop\\Datasets\\books.csv')"
   ]
  },
  {
   "cell_type": "code",
   "execution_count": 17,
   "outputs": [
    {
     "name": "stdout",
     "output_type": "stream",
     "text": [
      "<class 'pandas.core.frame.DataFrame'>\n",
      "RangeIndex: 11127 entries, 0 to 11126\n",
      "Data columns (total 13 columns):\n",
      "bookID                11127 non-null int64\n",
      "title                 11127 non-null object\n",
      "authors               11127 non-null object\n",
      "average_rating        11127 non-null object\n",
      "isbn                  11127 non-null object\n",
      "isbn13                11127 non-null object\n",
      "language_code         11127 non-null object\n",
      "num_pages             11127 non-null object\n",
      "ratings_count         11127 non-null int64\n",
      "text_reviews_count    11127 non-null int64\n",
      "publication_date      11127 non-null object\n",
      "publisher             11127 non-null object\n",
      "Unnamed: 12           4 non-null object\n",
      "dtypes: int64(3), object(10)\n",
      "memory usage: 1.1+ MB\n",
      "None\n"
     ]
    }
   ],
   "source": [
    "print(df.info())"
   ],
   "metadata": {
    "collapsed": false,
    "pycharm": {
     "name": "#%%\n"
    }
   }
  },
  {
   "cell_type": "markdown",
   "source": [
    "num_pages should be int but is an object"
   ],
   "metadata": {
    "collapsed": false
   }
  },
  {
   "cell_type": "code",
   "execution_count": 18,
   "outputs": [
    {
     "name": "stdout",
     "output_type": "stream",
     "text": [
      "      bookID                                              title  \\\n",
      "3348   12224  Streetcar Suburbs: The Process of Growth in Bo...   \n",
      "4702   16914                  The Tolkien Fan's Medieval Reader   \n",
      "5877   22128                     Patriots (The Coming Collapse)   \n",
      "8979   34889  Brown's Star Atlas: Showing All The Bright Sta...   \n",
      "\n",
      "                                       authors  \\\n",
      "3348                           Sam Bass Warner   \n",
      "4702  David E. Smith (Turgon of TheOneRing.net   \n",
      "5877                              James Wesley   \n",
      "8979                                     Brown   \n",
      "\n",
      "                                         average_rating  isbn      isbn13  \\\n",
      "3348                                  Jr./Sam B. Warner  3.58   674842111   \n",
      "4702   one of the founding members of this Tolkien w...  3.58  1593600119   \n",
      "5877                                             Rawles  3.63  156384155X   \n",
      "8979                                     Son & Ferguson     0   851742718   \n",
      "\n",
      "     language_code num_pages  ratings_count  text_reviews_count  \\\n",
      "3348      9.78E+12     en-US            236                  61   \n",
      "4702      9.78E+12       eng            400                  26   \n",
      "5877      9.78E+12       eng            342                  38   \n",
      "8979      9.78E+12       eng             49                   0   \n",
      "\n",
      "     publication_date  publisher                  Unnamed: 12  \n",
      "3348                6  4/20/2004     Harvard University Press  \n",
      "4702                4   04-06-04            Cold Spring Press  \n",
      "5877                4  1/15/1999  Huntington House Publishers  \n",
      "8979                0   05-01-77    Brown Son & Ferguson Ltd.  \n"
     ]
    }
   ],
   "source": [
    "print(df[df['num_pages'].str.contains('[^-0-9\\/]+')])"
   ],
   "metadata": {
    "collapsed": false,
    "pycharm": {
     "name": "#%%\n"
    }
   }
  },
  {
   "cell_type": "markdown",
   "source": [
    "Looking at the rows with strings for num_pages shows that\n",
    "in the average_rating column the incorrect information\n",
    "has been input. From here the columns have been shifted.\n",
    "average_rating values becomes the isbn, isbn to isbn 13\n",
    "and so on. There are only four instances of these books\n",
    "so removing the rows is fine. The books are also not any\n",
    "major books that lay heavily as an outliar.\n",
    "\n",
    "Now num_pages can be converted to a numeric\n",
    "column"
   ],
   "metadata": {
    "collapsed": false
   }
  },
  {
   "cell_type": "code",
   "execution_count": 19,
   "outputs": [],
   "source": [
    "df = df.drop(df[df['num_pages'].str.contains('[^-0-9\\/]+')].index)\n",
    "df['num_pages'] = pd.to_numeric(df['num_pages'])"
   ],
   "metadata": {
    "collapsed": false,
    "pycharm": {
     "name": "#%%\n"
    }
   }
  },
  {
   "cell_type": "code",
   "execution_count": 20,
   "outputs": [
    {
     "name": "stdout",
     "output_type": "stream",
     "text": [
      "<class 'pandas.core.frame.DataFrame'>\n",
      "Int64Index: 11123 entries, 0 to 11126\n",
      "Data columns (total 13 columns):\n",
      "bookID                11123 non-null int64\n",
      "title                 11123 non-null object\n",
      "authors               11123 non-null object\n",
      "average_rating        11123 non-null object\n",
      "isbn                  11123 non-null object\n",
      "isbn13                11123 non-null object\n",
      "language_code         11123 non-null object\n",
      "num_pages             11123 non-null int64\n",
      "ratings_count         11123 non-null int64\n",
      "text_reviews_count    11123 non-null int64\n",
      "publication_date      11123 non-null object\n",
      "publisher             11123 non-null object\n",
      "Unnamed: 12           0 non-null object\n",
      "dtypes: int64(4), object(9)\n",
      "memory usage: 1.2+ MB\n",
      "None\n",
      "1415918090    1\n",
      "393926117     1\n",
      "140447946     1\n",
      "226307824     1\n",
      "143037498     1\n",
      "             ..\n",
      "141001828     1\n",
      "1593109156    1\n",
      "670826901     1\n",
      "787982377     1\n",
      "142401102     1\n",
      "Name: isbn, Length: 11123, dtype: int64\n"
     ]
    }
   ],
   "source": [
    "print(df.info())\n",
    "print(df['isbn'].value_counts())"
   ],
   "metadata": {
    "collapsed": false,
    "pycharm": {
     "name": "#%%\n"
    }
   }
  },
  {
   "cell_type": "markdown",
   "source": [
    "I don't care about isbn and isbn13 as they are\n",
    "just unique codes to identify a book.\n",
    "As seen above there are no overlaps with the\n",
    "unique codes which is good as no two books\n",
    "should have the same.\n",
    "isbn13 contains overlaps but due only to the\n",
    "fact that they are in standard form.\n",
    "\n",
    "From df.info I can see that the publication_date\n",
    "column has no consistent date format."
   ],
   "metadata": {
    "collapsed": false,
    "pycharm": {
     "name": "#%% md\n"
    }
   }
  },
  {
   "cell_type": "code",
   "execution_count": 21,
   "outputs": [
    {
     "name": "stdout",
     "output_type": "stream",
     "text": [
      "0         9/16/2006\n",
      "1          09-01-04\n",
      "2          11-01-03\n",
      "3          05-01-04\n",
      "4         9/13/2004\n",
      "            ...    \n",
      "11122    12/21/2004\n",
      "11123      12-01-88\n",
      "11124      08-01-93\n",
      "11125     2/27/2007\n",
      "11126     5/28/2006\n",
      "Name: publication_date, Length: 11123, dtype: object\n"
     ]
    }
   ],
   "source": [
    "print(df['publication_date'])\n",
    "df = df.drop(['isbn','isbn13'],axis=1)\n",
    "df['publication_date'] = \\\n",
    "    pd.to_datetime(df['publication_date'],\n",
    "    errors='coerce').dt.strftime('%d/%m/%Y')"
   ],
   "metadata": {
    "collapsed": false,
    "pycharm": {
     "name": "#%%\n"
    }
   }
  },
  {
   "cell_type": "code",
   "execution_count": 22,
   "outputs": [
    {
     "name": "stdout",
     "output_type": "stream",
     "text": [
      "01/10/2005    56\n",
      "01/11/2005    53\n",
      "01/09/2006    51\n",
      "01/10/2006    48\n",
      "01/11/2006    40\n",
      "              ..\n",
      "19/06/2004     1\n",
      "10/02/2004     1\n",
      "09/09/1994     1\n",
      "09/10/1995     1\n",
      "28/09/1993     1\n",
      "Name: publication_date, Length: 3677, dtype: int64\n",
      "<class 'pandas.core.frame.DataFrame'>\n",
      "Int64Index: 11123 entries, 0 to 11126\n",
      "Data columns (total 11 columns):\n",
      "bookID                11123 non-null int64\n",
      "title                 11123 non-null object\n",
      "authors               11123 non-null object\n",
      "average_rating        11123 non-null object\n",
      "language_code         11123 non-null object\n",
      "num_pages             11123 non-null int64\n",
      "ratings_count         11123 non-null int64\n",
      "text_reviews_count    11123 non-null int64\n",
      "publication_date      11123 non-null object\n",
      "publisher             11123 non-null object\n",
      "Unnamed: 12           0 non-null object\n",
      "dtypes: int64(4), object(7)\n",
      "memory usage: 1.0+ MB\n",
      "None\n"
     ]
    }
   ],
   "source": [
    "print(df['publication_date'].value_counts())\n",
    "print(df.info())"
   ],
   "metadata": {
    "collapsed": false,
    "pycharm": {
     "name": "#%%\n"
    }
   }
  },
  {
   "cell_type": "markdown",
   "source": [
    "average_rating should have type float"
   ],
   "metadata": {
    "collapsed": false,
    "pycharm": {
     "name": "#%% md\n"
    }
   }
  },
  {
   "cell_type": "code",
   "execution_count": 23,
   "outputs": [
    {
     "name": "stdout",
     "output_type": "stream",
     "text": [
      "['4.57' '4.49' '4.42' '4.56' '4.78' '3.74' '4.73' '4.38' '4.22' '4.21'\n",
      " '3.44' '3.87' '4.07' '3.9' '3.83' '3.86' '3.91' '3.93' '4.59' '4.5'\n",
      " '4.36' '4.53' '3.84' '3.72' '4' '3.88' '4.33' '3.45' '3.76' '3.6' '4.06'\n",
      " '4.17' '3.55' '3.98' '4.13' '3.95' '4.24' '4.34' '3.92' '4.23' '3.75'\n",
      " '3.94' '3.77' '4.46' '3.68' '3.99' '3.25' '3.89' '3.82' '3.78' '4.01'\n",
      " '4.35' '4.28' '3.34' '3.67' '3.48' '3.5' '3.62' '4.27' '3.39' '4.12'\n",
      " '4.08' '4.05' '3.85' '2.99' '4.19' '3.71' '4.2' '3.65' '3.4' '4.11'\n",
      " '3.42' '4.02' '3.69' '4.1' '3.66' '4.61' '4.04' '3.97' '4.14' '3.57'\n",
      " '3.43' '3.22' '3.64' '3.96' '3.8' '3.81' '3.79' '3.23' '4.15' '4.39'\n",
      " '4.03' '3.73' '3.51' '3.63' '3.09' '3.59' '4.29' '0' '4.25' '4.26' '3.61'\n",
      " '4.16' '4.55' '4.52' '3.41' '4.7' '4.18' '3.58' '4.51' '3.15' '3.31'\n",
      " '4.09' '3.49' '3.56' '4.47' '4.44' '3.7' '4.32' '4.4' '4.31' '4.43' '2.8'\n",
      " '3.46' '2.83' '4.62' '2.67' '4.45' '4.3' '5' '3.1' '3.08' '3.27' '3.33'\n",
      " '3' '4.67' '4.63' '3.52' '3.36' '3.54' '3.17' '4.37' '3.29' '4.64' '3.38'\n",
      " '3.37' '3.16' '3.53' '2.88' '2.98' '3.35' '3.3' '3.24' '4.41' '4.48'\n",
      " '4.54' '4.6' '3.32' '3.13' '2' '3.2' '4.58' '2.82' '3.28' '2.62' '2.92'\n",
      " '3.47' '3.02' '1' '3.14' '3.12' '3.18' '2.86' '3.26' '3.19' '3.03' '3.07'\n",
      " '3.11' '4.91' '2.55' '2.81' '4.75' '3.21' '4.71' '4.8' '2.72' '2.79'\n",
      " '2.96' '2.75' '4.86' '4.65' '2.5' '4.82' '4.76' '4.72' '4.69' '1.67'\n",
      " '3.06' '2.94' '2.89' '3.04' '2.4' '2.61' '2.77' '2.63' '4.88' '4.83'\n",
      " '2.93' '2.33']\n"
     ]
    }
   ],
   "source": [
    "print(df['average_rating'].unique())\n",
    "df['average_rating'] = pd.to_numeric(df['average_rating'])"
   ],
   "metadata": {
    "collapsed": false,
    "pycharm": {
     "name": "#%%\n"
    }
   }
  },
  {
   "cell_type": "code",
   "execution_count": 24,
   "outputs": [
    {
     "name": "stdout",
     "output_type": "stream",
     "text": [
      "<class 'pandas.core.frame.DataFrame'>\n",
      "Int64Index: 11123 entries, 0 to 11126\n",
      "Data columns (total 11 columns):\n",
      "bookID                11123 non-null int64\n",
      "title                 11123 non-null object\n",
      "authors               11123 non-null object\n",
      "average_rating        11123 non-null float64\n",
      "language_code         11123 non-null object\n",
      "num_pages             11123 non-null int64\n",
      "ratings_count         11123 non-null int64\n",
      "text_reviews_count    11123 non-null int64\n",
      "publication_date      11123 non-null object\n",
      "publisher             11123 non-null object\n",
      "Unnamed: 12           0 non-null object\n",
      "dtypes: float64(1), int64(4), object(6)\n",
      "memory usage: 1.0+ MB\n",
      "None\n",
      "eng      8908\n",
      "en-US    1408\n",
      "spa       218\n",
      "en-GB     214\n",
      "fre       144\n",
      "ger        99\n",
      "jpn        46\n",
      "mul        19\n",
      "zho        14\n",
      "grc        11\n",
      "por        10\n",
      "en-CA       7\n",
      "ita         5\n",
      "lat         3\n",
      "enm         3\n",
      "rus         2\n",
      "swe         2\n",
      "nl          1\n",
      "gla         1\n",
      "ara         1\n",
      "tur         1\n",
      "wel         1\n",
      "glg         1\n",
      "ale         1\n",
      "srp         1\n",
      "nor         1\n",
      "msa         1\n",
      "Name: language_code, dtype: int64\n"
     ]
    }
   ],
   "source": [
    "print(df.info())\n",
    "print(df['language_code'].value_counts())"
   ],
   "metadata": {
    "collapsed": false,
    "pycharm": {
     "name": "#%%\n"
    }
   }
  },
  {
   "cell_type": "markdown",
   "source": [
    "en-(US,GB,CA) for the column langauge_codes are\n",
    "United States, Great Briton, Canadian. They are all the\n",
    "same so i will condense them to all say eng"
   ],
   "metadata": {
    "collapsed": false,
    "pycharm": {
     "name": "#%% md\n"
    }
   }
  },
  {
   "cell_type": "code",
   "execution_count": 25,
   "outputs": [
    {
     "name": "stdout",
     "output_type": "stream",
     "text": [
      "eng    10537\n",
      "spa      218\n",
      "fre      144\n",
      "ger       99\n",
      "jpn       46\n",
      "mul       19\n",
      "zho       14\n",
      "grc       11\n",
      "por       10\n",
      "ita        5\n",
      "lat        3\n",
      "enm        3\n",
      "rus        2\n",
      "swe        2\n",
      "nl         1\n",
      "srp        1\n",
      "gla        1\n",
      "ara        1\n",
      "tur        1\n",
      "wel        1\n",
      "glg        1\n",
      "ale        1\n",
      "nor        1\n",
      "msa        1\n",
      "Name: language_code, dtype: int64\n"
     ]
    }
   ],
   "source": [
    "language_list = ['en-US','en-GB','en-CA']\n",
    "df['language_code'] = df['language_code'].apply(lambda x: 'eng' if x in language_list else x)\n",
    "print(df['language_code'].value_counts())"
   ],
   "metadata": {
    "collapsed": false,
    "pycharm": {
     "name": "#%%\n"
    }
   }
  },
  {
   "cell_type": "markdown",
   "source": [
    "Only look at books with eng language as they will\n",
    "have different markets\n",
    "\n",
    "Analysis\n",
    "-------------------------\n",
    "How the number of text_reviews correlates to average_rating\n",
    "\n",
    "How publication date and rating/text review changes\n",
    "\n",
    "Top rated authors with the number of books they have\n",
    "\n",
    "Publishers average rating with books they have published\n",
    "\n",
    "Publishes most active years\n",
    "\n",
    "Publisher average pages they"
   ],
   "metadata": {
    "collapsed": false
   }
  },
  {
   "cell_type": "code",
   "execution_count": 26,
   "outputs": [],
   "source": [
    "df = df[df['ratings_count']>0]\n",
    "df = df[df['language_code']=='eng']"
   ],
   "metadata": {
    "collapsed": false,
    "pycharm": {
     "name": "#%%\n"
    }
   }
  },
  {
   "cell_type": "code",
   "execution_count": 27,
   "outputs": [
    {
     "name": "stdout",
     "output_type": "stream",
     "text": [
      "                                          average_rating  ratings_count\n",
      "publisher                                                              \n",
      "Academica Press                                     5.00              1\n",
      "Boosey & Hawkes Inc                                 5.00              1\n",
      "Schirmer Mosel                                      5.00              1\n",
      "T&T Clark Int'l                                     5.00              1\n",
      "University Press of New England                     5.00              1\n",
      "Chartwell Books                                     5.00              2\n",
      "Courage Books                                       5.00              2\n",
      "Vantage Press                                       5.00              4\n",
      "Square One Publishers                               5.00              5\n",
      "Welcome Books                                       4.88              8\n",
      "Teacher's Pet Publications                          4.86              5\n",
      "Universe Publishing(NY)                             4.83              6\n",
      "Skinner House Books                                 4.75              8\n",
      "Steidl                                              4.73            144\n",
      "Four Ninety-Eight Productions                       4.72             29\n",
      "Zondervan Publishing House                          4.70           4166\n",
      "Boston Common Press                                 4.69             26\n",
      "Servant Publications                                4.67              6\n",
      "Harrison House                                      4.67              9\n",
      "Time Warner Books UK                                4.63            303\n",
      "Pearson Education                                   4.62             17\n",
      "Western Publishing Company  Golden Books            4.62             23\n",
      "Library of America (NY)                             4.61           1495\n",
      "Fellowship for the Performance                      4.60             28\n",
      "Island Press                                        4.59             16\n",
      "Collins Modern Classics                             4.59            141\n",
      "Barbour Books                                       4.58              8\n",
      "Readers Digest                                      4.58             12\n",
      "Rufus Publications                                  4.58             38\n",
      "Longmeadow Press                                    4.58            433\n",
      "Penguin Classics Deluxe Edition                     4.58          18874\n",
      "Black Classic Press                                 4.56            402\n",
      "Bloomsbury UK                                       4.56           3141\n",
      "Russell Enterprises                                 4.55            161\n",
      "Twin Palms Publishers                               4.54             58\n"
     ]
    }
   ],
   "source": [
    "pub_avg = df.groupby('publisher').agg({'average_rating':'mean','ratings_count':'sum'}).sort_values((['average_rating','ratings_count']),ascending=(False,True))\n",
    "\n",
    "pub_avg = pub_avg[pub_avg>0]\n",
    "print(pub_avg.head(35))"
   ],
   "metadata": {
    "collapsed": false,
    "pycharm": {
     "name": "#%%\n"
    }
   }
  },
  {
   "cell_type": "code",
   "execution_count": 28,
   "outputs": [],
   "source": [
    "\n",
    "path = r'\\Users\\James\\Desktop/'\n",
    "df.to_excel(path+'book_use.xlsx')"
   ],
   "metadata": {
    "collapsed": false,
    "pycharm": {
     "name": "#%%\n"
    }
   }
  },
  {
   "cell_type": "markdown",
   "source": [],
   "metadata": {
    "collapsed": false
   }
  }
 ],
 "metadata": {
  "kernelspec": {
   "display_name": "Python 3",
   "language": "python",
   "name": "python3"
  },
  "language_info": {
   "codemirror_mode": {
    "name": "ipython",
    "version": 2
   },
   "file_extension": ".py",
   "mimetype": "text/x-python",
   "name": "python",
   "nbconvert_exporter": "python",
   "pygments_lexer": "ipython2",
   "version": "2.7.6"
  }
 },
 "nbformat": 4,
 "nbformat_minor": 0
}